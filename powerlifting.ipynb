{
  "nbformat": 4,
  "nbformat_minor": 0,
  "metadata": {
    "colab": {
      "provenance": [],
      "authorship_tag": "ABX9TyPtuwxTlqglQZMyY0r1PZJy",
      "include_colab_link": true
    },
    "kernelspec": {
      "name": "python3",
      "display_name": "Python 3"
    },
    "language_info": {
      "name": "python"
    }
  },
  "cells": [
    {
      "cell_type": "markdown",
      "metadata": {
        "id": "view-in-github",
        "colab_type": "text"
      },
      "source": [
        "<a href=\"https://colab.research.google.com/github/rekhachakkara/python_projects/blob/master/powerlifting.ipynb\" target=\"_parent\"><img src=\"https://colab.research.google.com/assets/colab-badge.svg\" alt=\"Open In Colab\"/></a>"
      ]
    },
    {
      "cell_type": "code",
      "execution_count": null,
      "metadata": {
        "colab": {
          "base_uri": "https://localhost:8080/"
        },
        "id": "93sButEStPvw",
        "outputId": "b0fd45db-8ec1-4064-bb41-7a2da2ad014b"
      },
      "outputs": [
        {
          "output_type": "stream",
          "name": "stdout",
          "text": [
            "Drive already mounted at /content/drive; to attempt to forcibly remount, call drive.mount(\"/content/drive\", force_remount=True).\n"
          ]
        }
      ],
      "source": [
        "from google.colab import drive\n",
        "drive.mount('/content/drive')\n",
        "\n"
      ]
    },
    {
      "cell_type": "code",
      "source": [
        "def pretty_print(df, n):\n",
        "  print(tabulate(df.head(n),headers='keys',tablefmt='psql'))"
      ],
      "metadata": {
        "id": "VooDJtZUtJ32"
      },
      "execution_count": null,
      "outputs": []
    },
    {
      "cell_type": "code",
      "source": [
        "from os import lockf\n",
        "import pandas as pd\n",
        "from tabulate import tabulate # tabulate helps to convert the data into tabular form with heares and format eype\n",
        "data_excel = pd.read_csv(\"/content/drive/MyDrive/Data_set_rekha/openpowerlifting.csv\")\n",
        "#print(\"reading from excel all datas\",data_excel.to_string)\n",
        "#data_excel.head()\n",
        "#data_excel.tail()\n",
        "#table_format = tabulate(data_excel.head(),headers=\"keys\",tablefmt=\"html\")\n",
        "table_format = tabulate(data_excel.head(),headers=\"keys\",tablefmt=\"pSql\")\n",
        "#print(\"table\",table_format)\n",
        "#to_frame - convert the SerieS object into dataframe\n",
        "#reSet_index - allowS the index to be reSeted to 0,1,2 etc\n",
        "#.Size - count the occurence of the groupby\n",
        "#Syntax: DataFrame.groupby(by=None, axis=0, level=None, as_index=True, sort=True, group_keys=True, squeeze=False, **kwargs)\n",
        "groupby_male = data_excel.loc[data_excel['Sex'] == \"M\"].groupby(['State']).size().to_frame('count').reset_index()\n",
        "Sorted_male = groupby_male.sort_values(by=['count'],ascending=True)\n",
        "#groupby.mean() #mean remove empty cellS\n",
        "pretty_print(Sorted_male,10)\n",
        "groupby_fem = data_excel.loc[data_excel['Sex'] == \"F\"].groupby(['State']).size().to_frame('count').reset_index()\n",
        "Sorted_fem = groupby_fem.sort_values(by=['count'],ascending=False)\n",
        "#groupby.mean() #mean remove empty cellS\n",
        "pretty_print(Sorted_fem,10)\n",
        "\n",
        "\n",
        "\n",
        "\n"
      ],
      "metadata": {
        "colab": {
          "base_uri": "https://localhost:8080/"
        },
        "id": "kiqXZT_MuLhr",
        "outputId": "b5d34e85-8308-443f-8954-b53395e1128e"
      },
      "execution_count": null,
      "outputs": [
        {
          "output_type": "stream",
          "name": "stderr",
          "text": [
            "<ipython-input-12-8d08d8cf46f9>:4: DtypeWarning: Columns (33,35,38) have mixed types. Specify dtype option on import or set low_memory=False.\n",
            "  data_excel = pd.read_csv(\"/content/drive/MyDrive/Data_set_rekha/openpowerlifting.csv\")\n"
          ]
        },
        {
          "output_type": "stream",
          "name": "stdout",
          "text": [
            "+----+---------+---------+\n",
            "|    | State   |   count |\n",
            "|----+---------+---------|\n",
            "| 75 | MP      |       1 |\n",
            "| 32 | ER      |       1 |\n",
            "| 44 | HEN     |       1 |\n",
            "| 49 | HUN     |       1 |\n",
            "| 56 | JL      |       1 |\n",
            "| 22 | CM      |       1 |\n",
            "| 58 | JX      |       1 |\n",
            "| 64 | LN      |       1 |\n",
            "| 18 | CAN     |       1 |\n",
            "| 33 | ES      |       1 |\n",
            "+----+---------+---------+\n",
            "+-----+---------+---------+\n",
            "|     | State   |   count |\n",
            "|-----+---------+---------|\n",
            "|  15 | CA      |   19802 |\n",
            "| 115 | TX      |   16280 |\n",
            "|  30 | FL      |    7734 |\n",
            "| 124 | WI      |    6230 |\n",
            "|  69 | NC      |    6123 |\n",
            "|  83 | NY      |    6086 |\n",
            "| 121 | WA      |    5970 |\n",
            "| 117 | VA      |    5921 |\n",
            "|  88 | PA      |    5707 |\n",
            "|  84 | OH      |    5705 |\n",
            "+-----+---------+---------+\n"
          ]
        }
      ]
    },
    {
      "cell_type": "code",
      "source": [
        "from os import lockf\n",
        "import pandas as pd\n",
        "from tabulate import tabulate # tabulate helps to convert the data into tabular form with heares and format eype\n",
        "data_excel = pd.read_csv(\"/content/drive/MyDrive/Data_set_rekha/openpowerlifting.csv\")\n",
        "#print(\"reading from excel all datas\",data_excel.to_string)\n",
        "#data_excel.head()\n",
        "#data_excel.tail()\n",
        "#table_format = tabulate(data_excel.head(),headers=\"keys\",tablefmt=\"html\")\n",
        "table_format = tabulate(data_excel.head(),headers=\"keys\",tablefmt=\"pSql\")\n",
        "#print(\"table\",table_format)\n",
        "#to_frame - convert the SerieS object into dataframe\n",
        "#reSet_index - allowS the index to be reSeted to 0,1,2 etc\n",
        "#.Size - count the occurence of the groupby\n",
        "#Syntax: DataFrame.groupby(by=None, axis=0, level=None, as_index=True, sort=True, group_keys=True, squeeze=False, **kwargs)\n",
        "groupby_male = data_excel.loc[data_excel['Sex'] == \"M\"].groupby(['State']).size().to_frame('count').reset_index()\n",
        "Sorted_male = groupby_male.sort_values(by=['count'],ascending=True)\n",
        "#groupby.mean() #mean remove empty cellS\n",
        "pretty_print(Sorted_male,10)\n",
        "groupby_fem = data_excel.loc[data_excel['Sex'] == \"F\"].groupby(['State']).size().to_frame('count').reset_index()\n",
        "Sorted_fem = groupby_fem.sort_values(by=['count'],ascending=False)\n",
        "#groupby.mean() #mean remove empty cellS\n",
        "pretty_print(Sorted_fem,10)\n",
        "\n",
        "\n",
        "\n",
        "\n"
      ],
      "metadata": {
        "colab": {
          "base_uri": "https://localhost:8080/"
        },
        "outputId": "b5d34e85-8308-443f-8954-b53395e1128e",
        "id": "gjeK3fXQtyay"
      },
      "execution_count": null,
      "outputs": [
        {
          "output_type": "stream",
          "name": "stderr",
          "text": [
            "<ipython-input-12-8d08d8cf46f9>:4: DtypeWarning: Columns (33,35,38) have mixed types. Specify dtype option on import or set low_memory=False.\n",
            "  data_excel = pd.read_csv(\"/content/drive/MyDrive/Data_set_rekha/openpowerlifting.csv\")\n"
          ]
        },
        {
          "output_type": "stream",
          "name": "stdout",
          "text": [
            "+----+---------+---------+\n",
            "|    | State   |   count |\n",
            "|----+---------+---------|\n",
            "| 75 | MP      |       1 |\n",
            "| 32 | ER      |       1 |\n",
            "| 44 | HEN     |       1 |\n",
            "| 49 | HUN     |       1 |\n",
            "| 56 | JL      |       1 |\n",
            "| 22 | CM      |       1 |\n",
            "| 58 | JX      |       1 |\n",
            "| 64 | LN      |       1 |\n",
            "| 18 | CAN     |       1 |\n",
            "| 33 | ES      |       1 |\n",
            "+----+---------+---------+\n",
            "+-----+---------+---------+\n",
            "|     | State   |   count |\n",
            "|-----+---------+---------|\n",
            "|  15 | CA      |   19802 |\n",
            "| 115 | TX      |   16280 |\n",
            "|  30 | FL      |    7734 |\n",
            "| 124 | WI      |    6230 |\n",
            "|  69 | NC      |    6123 |\n",
            "|  83 | NY      |    6086 |\n",
            "| 121 | WA      |    5970 |\n",
            "| 117 | VA      |    5921 |\n",
            "|  88 | PA      |    5707 |\n",
            "|  84 | OH      |    5705 |\n",
            "+-----+---------+---------+\n"
          ]
        }
      ]
    },
    {
      "cell_type": "code",
      "source": [
        "from os import lockf\n",
        "import pandas as pd\n",
        "from tabulate import tabulate # tabulate helps to convert the data into tabular form with heares and format eype\n",
        "data_excel = pd.read_csv(\"/content/drive/MyDrive/Data_set_rekha/openpowerlifting.csv\")\n",
        "#print(\"reading from excel all datas\",data_excel.to_string)\n",
        "#data_excel.head()\n",
        "#data_excel.tail()\n",
        "#table_format = tabulate(data_excel.head(),headers=\"keys\",tablefmt=\"html\")\n",
        "table_format = tabulate(data_excel.head(),headers=\"keys\",tablefmt=\"pSql\")\n",
        "#print(\"table\",table_format)\n",
        "#to_frame - convert the SerieS object into dataframe\n",
        "#reSet_index - allowS the index to be reSeted to 0,1,2 etc\n",
        "#.Size - count the occurence of the groupby\n",
        "#Syntax: DataFrame.groupby(by=None, axis=0, level=None, as_index=True, sort=True, group_keys=True, squeeze=False, **kwargs)\n",
        "groupby_male = data_excel.loc[data_excel['Sex'] == \"M\"].groupby(['State']).size().to_frame('count').reset_index()\n",
        "Sorted_male = groupby_male.sort_values(by=['count'],ascending=False)\n",
        "#groupby.mean() #mean remove empty cellS\n",
        "pretty_print(Sorted_male,10)\n",
        "groupby_fem = data_excel.loc[data_excel['Sex'] == \"F\"].groupby(['State']).size().to_frame('count').reset_index()\n",
        "Sorted_fem = groupby_fem.sort_values(by=['count'],ascending=False)\n",
        "#groupby.mean() #mean remove empty cellS\n",
        "pretty_print(Sorted_fem,10)\n",
        "\n",
        "\n",
        "\n",
        "\n"
      ],
      "metadata": {
        "colab": {
          "base_uri": "https://localhost:8080/"
        },
        "outputId": "6b9bfafe-dd0e-46cf-ade7-2df7c57fe840",
        "id": "RMya3JhotzmS"
      },
      "execution_count": null,
      "outputs": [
        {
          "output_type": "stream",
          "name": "stderr",
          "text": [
            "<ipython-input-13-4f754403def3>:4: DtypeWarning: Columns (33,35,38) have mixed types. Specify dtype option on import or set low_memory=False.\n",
            "  data_excel = pd.read_csv(\"/content/drive/MyDrive/Data_set_rekha/openpowerlifting.csv\")\n"
          ]
        },
        {
          "output_type": "stream",
          "name": "stdout",
          "text": [
            "+-----+---------+---------+\n",
            "|     | State   |   count |\n",
            "|-----+---------+---------|\n",
            "|  17 | CA      |   43615 |\n",
            "| 133 | TX      |   32968 |\n",
            "|  34 | FL      |   16330 |\n",
            "|  99 | OH      |   15261 |\n",
            "| 103 | PA      |   15205 |\n",
            "|  81 | NC      |   14996 |\n",
            "|  98 | NY      |   13928 |\n",
            "| 135 | VA      |   13890 |\n",
            "| 101 | ON      |   10942 |\n",
            "|   9 | AZ      |    9933 |\n",
            "+-----+---------+---------+\n",
            "+-----+---------+---------+\n",
            "|     | State   |   count |\n",
            "|-----+---------+---------|\n",
            "|  15 | CA      |   19802 |\n",
            "| 115 | TX      |   16280 |\n",
            "|  30 | FL      |    7734 |\n",
            "| 124 | WI      |    6230 |\n",
            "|  69 | NC      |    6123 |\n",
            "|  83 | NY      |    6086 |\n",
            "| 121 | WA      |    5970 |\n",
            "| 117 | VA      |    5921 |\n",
            "|  88 | PA      |    5707 |\n",
            "|  84 | OH      |    5705 |\n",
            "+-----+---------+---------+\n"
          ]
        }
      ]
    },
    {
      "cell_type": "code",
      "source": [],
      "metadata": {
        "id": "yECcuKuCtHOS"
      },
      "execution_count": null,
      "outputs": []
    },
    {
      "cell_type": "code",
      "source": [
        "()"
      ],
      "metadata": {
        "id": "NzdkMadJr9ha"
      },
      "execution_count": null,
      "outputs": []
    }
  ]
}