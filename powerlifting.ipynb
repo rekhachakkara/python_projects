{
  "nbformat": 4,
  "nbformat_minor": 0,
  "metadata": {
    "colab": {
      "provenance": [],
      "authorship_tag": "ABX9TyOd2xklUp5+01x9EAoj8q71",
      "include_colab_link": true
    },
    "kernelspec": {
      "name": "python3",
      "display_name": "Python 3"
    },
    "language_info": {
      "name": "python"
    }
  },
  "cells": [
    {
      "cell_type": "markdown",
      "metadata": {
        "id": "view-in-github",
        "colab_type": "text"
      },
      "source": [
        "<a href=\"https://colab.research.google.com/github/rekhachakkara/python_projects/blob/master/powerlifting.ipynb\" target=\"_parent\"><img src=\"https://colab.research.google.com/assets/colab-badge.svg\" alt=\"Open In Colab\"/></a>"
      ]
    },
    {
      "cell_type": "code",
      "execution_count": 8,
      "metadata": {
        "colab": {
          "base_uri": "https://localhost:8080/"
        },
        "id": "93sButEStPvw",
        "outputId": "aff57ed7-1812-4de9-8163-45d911cbb377"
      },
      "outputs": [
        {
          "output_type": "stream",
          "name": "stdout",
          "text": [
            "Drive already mounted at /content/drive; to attempt to forcibly remount, call drive.mount(\"/content/drive\", force_remount=True).\n"
          ]
        }
      ],
      "source": [
        "from google.colab import drive\n",
        "drive.mount('/content/drive')\n",
        "\n"
      ]
    },
    {
      "cell_type": "code",
      "source": [
        "def pretty_print(df, n):\n",
        "  print(tabulate(df.head(n),headers='keys',tablefmt='psql'))"
      ],
      "metadata": {
        "id": "VooDJtZUtJ32"
      },
      "execution_count": null,
      "outputs": []
    },
    {
      "cell_type": "code",
      "source": [
        "from os import lockf\n",
        "import pandas as pd\n",
        "from tabulate import tabulate # tabulate helps to convert the data into tabular form with heares and format eype\n",
        "data_excel = pd.read_csv(\"/content/drive/MyDrive/Data_set_rekha/openpowerlifting.csv\")\n",
        "#print(\"reading from excel all datas\",data_excel.to_string)\n",
        "#data_excel.head()\n",
        "#data_excel.tail()\n",
        "#table_format = tabulate(data_excel.head(),headers=\"keys\",tablefmt=\"html\")\n",
        "table_format = tabulate(data_excel.head(),headers=\"keys\",tablefmt=\"pSql\")\n",
        "#print(\"table\",table_format)\n",
        "#to_frame - convert the SerieS object into dataframe\n",
        "#reSet_index - allowS the index to be reSeted to 0,1,2 etc\n",
        "#.Size - count the occurence of the groupby\n",
        "#Syntax: DataFrame.groupby(by=None, axis=0, level=None, as_index=True, sort=True, group_keys=True, squeeze=False, **kwargs)\n",
        "groupby_male = data_excel.loc[data_excel['Sex'] == \"M\"].groupby(['State']).size().to_frame('count').reset_index()\n",
        "Sorted_male = groupby_male.sort_values(by=['count'],ascending=True)\n",
        "#groupby.mean() #mean remove empty cellS\n",
        "pretty_print(Sorted_male,10)\n",
        "groupby_fem = data_excel.loc[data_excel['Sex'] == \"F\"].groupby(['State']).size().to_frame('count').reset_index()\n",
        "Sorted_fem = groupby_fem.sort_values(by=['count'],ascending=False)\n",
        "#groupby.mean() #mean remove empty cellS\n",
        "pretty_print(Sorted_fem,10)\n",
        "\n",
        "\n",
        "\n",
        "\n"
      ],
      "metadata": {
        "colab": {
          "base_uri": "https://localhost:8080/"
        },
        "id": "kiqXZT_MuLhr",
        "outputId": "c3841fbd-2c36-4f16-c00f-c9453bb7b2b3"
      },
      "execution_count": null,
      "outputs": [
        {
          "output_type": "stream",
          "name": "stderr",
          "text": [
            "<ipython-input-6-3380c2dc6887>:4: DtypeWarning: Columns (33,35,38) have mixed types. Specify dtype option on import or set low_memory=False.\n",
            "  data_excel = pd.read_csv(\"/content/drive/MyDrive/Data_set_rekha/openpowerlifting.csv\")\n"
          ]
        },
        {
          "output_type": "stream",
          "name": "stdout",
          "text": [
            "+----+---------+---------+\n",
            "|    | State   |   count |\n",
            "|----+---------+---------|\n",
            "| 75 | MP      |       1 |\n",
            "| 32 | ER      |       1 |\n",
            "| 44 | HEN     |       1 |\n",
            "| 49 | HUN     |       1 |\n",
            "| 56 | JL      |       1 |\n",
            "| 22 | CM      |       1 |\n",
            "| 58 | JX      |       1 |\n",
            "| 64 | LN      |       1 |\n",
            "| 18 | CAN     |       1 |\n",
            "| 33 | ES      |       1 |\n",
            "+----+---------+---------+\n",
            "+-----+---------+---------+\n",
            "|     | State   |   count |\n",
            "|-----+---------+---------|\n",
            "|  15 | CA      |   19802 |\n",
            "| 115 | TX      |   16280 |\n",
            "|  30 | FL      |    7734 |\n",
            "| 124 | WI      |    6230 |\n",
            "|  69 | NC      |    6123 |\n",
            "|  83 | NY      |    6086 |\n",
            "| 121 | WA      |    5970 |\n",
            "| 117 | VA      |    5921 |\n",
            "|  88 | PA      |    5707 |\n",
            "|  84 | OH      |    5705 |\n",
            "+-----+---------+---------+\n"
          ]
        }
      ]
    },
    {
      "cell_type": "code",
      "source": [
        "#Plot pie chart and bar chart for Men Top 20-30 states. Matplotlib and Seaborn\n",
        "from os import lockf\n",
        "import pandas as pd\n",
        "from tabulate import tabulate # tabulate helps to convert the data into tabular form with heares and format eype\n",
        "data_excel_top = pd.read_csv(\"/content/drive/MyDrive/Data_set_rekha/openpowerlifting.csv\")\n",
        "df_usa_men = data_excel_top[(data_excel_top[\"Sex\"] == \"M\") & (data_excel_top[\"Country\"] == \"USA\")]\n",
        "df_state = data_excel_top.loc[data_excel_top['Sex'] == \"M\"].groupby(['State']).size().to_frame('count').reset_index()\n",
        "df_usa_men_sorted = df_state.sort_values(by='count',ascending=False)\n",
        "#print(df_usa_men.head())\n",
        "#print(df_state.head())\n",
        "#print(df_usa_men_sorted.head())\n",
        "print(df_usa_men_sorted.iloc[20:30])\n",
        "\n"
      ],
      "metadata": {
        "id": "jEqc-QCnnIJg",
        "outputId": "f3b878bb-89bc-40e2-949e-f135fa02cfa0",
        "colab": {
          "base_uri": "https://localhost:8080/"
        }
      },
      "execution_count": 6,
      "outputs": [
        {
          "output_type": "stream",
          "name": "stderr",
          "text": [
            "<ipython-input-6-42f861f59712>:5: DtypeWarning: Columns (33,35,38) have mixed types. Specify dtype option on import or set low_memory=False.\n",
            "  data_excel_top = pd.read_csv(\"/content/drive/MyDrive/Data_set_rekha/openpowerlifting.csv\")\n"
          ]
        },
        {
          "output_type": "stream",
          "name": "stdout",
          "text": [
            "    State  count\n",
            "100    OK   6562\n",
            "72     MI   6550\n",
            "102    OR   6317\n",
            "12     BC   6283\n",
            "132    TN   6240\n",
            "53     IN   5933\n",
            "88     NM   5614\n",
            "6      AL   5605\n",
            "0      AB   5469\n",
            "61     KY   5189\n"
          ]
        }
      ]
    },
    {
      "cell_type": "code",
      "source": [],
      "metadata": {
        "id": "N3K2eubAqcDh"
      },
      "execution_count": null,
      "outputs": []
    }
  ]
}