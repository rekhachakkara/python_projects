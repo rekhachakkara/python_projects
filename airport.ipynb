{
  "nbformat": 4,
  "nbformat_minor": 0,
  "metadata": {
    "colab": {
      "provenance": [],
      "authorship_tag": "ABX9TyOHGQ8Qc/BQZVp1rhayfOH/",
      "include_colab_link": true
    },
    "kernelspec": {
      "name": "python3",
      "display_name": "Python 3"
    },
    "language_info": {
      "name": "python"
    }
  },
  "cells": [
    {
      "cell_type": "markdown",
      "metadata": {
        "id": "view-in-github",
        "colab_type": "text"
      },
      "source": [
        "<a href=\"https://colab.research.google.com/github/rekhachakkara/python_projects/blob/master/airport.ipynb\" target=\"_parent\"><img src=\"https://colab.research.google.com/assets/colab-badge.svg\" alt=\"Open In Colab\"/></a>"
      ]
    },
    {
      "cell_type": "code",
      "execution_count": 2,
      "metadata": {
        "colab": {
          "base_uri": "https://localhost:8080/"
        },
        "id": "5XVy1z-2g15A",
        "outputId": "fc6142b0-7b64-4542-8398-1f4899f4268b"
      },
      "outputs": [
        {
          "output_type": "stream",
          "name": "stdout",
          "text": [
            "Mounted at /content/drive\n"
          ]
        }
      ],
      "source": [
        "from google.colab import drive\n",
        "drive.mount('/content/drive')\n",
        "\n",
        "import pandas  as  pd\n",
        "import datetime\n",
        "import numpy as np\n",
        "import datetime\n",
        "import matplotlib.pyplot as plt\n",
        "import seaborn as sns\n",
        "import pandas as pd\n"
      ]
    },
    {
      "cell_type": "code",
      "source": [
        "data_sheet = pd.read_csv(\"/content/drive/MyDrive/Data_set_rekha/airports.dat.txt\")\n",
        "#print(data_sheet)\n",
        "data_sheet.columns = [\"Airport_ID\",\"Name\",\"City\",\"Country\",\"IATA\",\"ICAO\",\"Latitude\",\"Longitude\",\"Altitude\",\"Timezone\",\"DST\",\"Tz database timezone\",\"Type\",\"Source\"]\n",
        "data_airlines = pd.read_csv(\"/content/drive/MyDrive/Data_set_rekha/Airports2.csv\")\n",
        "\n",
        "#1\n",
        "data_airline_sheet1 = data_sheet.sort_values(by=['Altitude'],ascending=False)\n",
        "data_airline_sheet1['rank'] = data_airline_sheet1['Altitude'].rank(ascending=False)\n",
        "data_sheet1_top = data_airline_sheet1[['Airport_ID','Name','City','Country','Altitude','rank']]\n",
        "print(data_sheet1_top,20)\n",
        "\n",
        "#2\n",
        "data_country = data_sheet.groupby(['Country']).size().to_frame('total_airports').reset_index()\n",
        "data_country = data_country.sort_values(by=['total_airports'],ascending=False)\n",
        "data_country['rank'] = data_country['total_airports'].rank(ascending=False)\n",
        "print(data_country,20)\n",
        "\n",
        "#3\n",
        "data_country1 = data_sheet.groupby(['City']).size().to_frame('total_airports').reset_index()\n",
        "data_country1 = data_country1.sort_values(by=['total_airports'],ascending=False)\n",
        "data_country1 ['rank'] = data_country1['total_airports'].rank(ascending=False)\n",
        "print(data_country1, 20)\n",
        "\n",
        "#4\n",
        "data_city = data_sheet.groupby(['City'])['Country'].nunique().to_frame(\"count\").reset_index()\n",
        "data_city = data_city.where(data_city[\"count\"] >=2)\n",
        "print(data_city, 10)\n",
        "\n",
        "#part 2\n",
        "#1\n",
        "def get_year(row):\n",
        "    return datetime.datetime.strptime(row['Fly_date'], '%Y-%m-%d').year\n",
        "data_airlines [\"year\"] = data_airlines.apply(get_year, axis=1)\n",
        "\n",
        "data_inbound = data_airlines.where(data_airlines[\"year\"] == 2009)\n",
        "data_2009 = data_inbound.groupby(['Destination_city'])['Flights'].sum().to_frame('total_inbound_flight').reset_index()\n",
        "data_2009 = data_2009.sort_values(by=['total_inbound_flight'], ascending=False)\n",
        "data_2009['rank'] = data_2009['total_inbound_flight'].rank(ascending=False)\n",
        "data_2009_city = data_2009[['Destination_city','total_inbound_flight','rank']]\n",
        "data_2009_city.columns = [\"city\", \"total_inbound_flights\", \"inbound_rank\"]\n",
        "print(data_2009_city, 10)\n",
        "\n",
        "#data_sheet.sort_values(\"Type\",inplace=True)\n",
        "#filter\n",
        "#filter = data_sheet(\"Type\") == \"Airport\"\n",
        "#data_sheet.where(filter,inplace=True)\n",
        "\n"
      ],
      "metadata": {
        "colab": {
          "base_uri": "https://localhost:8080/"
        },
        "id": "Rg5H8pvzh88q",
        "outputId": "a4e29350-8cae-4b37-8653-a9705e3814a7"
      },
      "execution_count": 12,
      "outputs": [
        {
          "output_type": "stream",
          "name": "stdout",
          "text": [
            "      Airport_ID                                 Name          City  \\\n",
            "6541        9310              Daocheng Yading Airport      Daocheng   \n",
            "5027        6396                 Qamdo Bangda Airport        Bangda   \n",
            "6392        8921                     Kangding Airport      Kangding   \n",
            "5871        7932                  Ngari Gunsa Airport     Shiquanhe   \n",
            "2624        2762        El Alto International Airport        La Paz   \n",
            "...          ...                                  ...           ...   \n",
            "2068        2151                       Ramsar Airport        Ramsar   \n",
            "4086        4357                       Atyrau Airport        Atyrau   \n",
            "5720        7646  Jacqueline Cochran Regional Airport  Palm Springs   \n",
            "1552        1595                   Ein Yahav Airfield     Eyn-yahav   \n",
            "1557        1600                  Bar Yehuda Airfield       Metzada   \n",
            "\n",
            "            Country  Altitude    rank  \n",
            "6541          China     14472     1.0  \n",
            "5027          China     14219     2.0  \n",
            "6392          China     14042     3.0  \n",
            "5871          China     14022     4.0  \n",
            "2624        Bolivia     13355     5.0  \n",
            "...             ...       ...     ...  \n",
            "2068           Iran       -70  7693.0  \n",
            "4086     Kazakhstan       -72  7694.0  \n",
            "5720  United States      -115  7695.0  \n",
            "1552         Israel      -164  7696.0  \n",
            "1557         Israel     -1266  7697.0  \n",
            "\n",
            "[7697 rows x 6 columns] 20\n",
            "                     Country  total_airports   rank\n",
            "223            United States            1512    1.0\n",
            "37                    Canada             430    2.0\n",
            "11                 Australia             334    3.0\n",
            "176                   Russia             264    4.5\n",
            "27                    Brazil             264    4.5\n",
            "..                       ...             ...    ...\n",
            "45   Cocos (Keeling) Islands               1  223.0\n",
            "44          Christmas Island               1  223.0\n",
            "156                     Niue               1  223.0\n",
            "157           Norfolk Island               1  223.0\n",
            "84                   Grenada               1  223.0\n",
            "\n",
            "[237 rows x 3 columns] 20\n",
            "            City  total_airports    rank\n",
            "3506      London               9     1.0\n",
            "1347    Columbus               8     2.0\n",
            "2092  Georgetown               7     3.5\n",
            "5394    San Jose               7     3.5\n",
            "2487     Houston               6     8.0\n",
            "...          ...             ...     ...\n",
            "2396   Helgoland               1  3717.5\n",
            "2395      Helena               1  3717.5\n",
            "2394       Heihe               1  3717.5\n",
            "2393        Heho               1  3717.5\n",
            "6953      Žilina               1  3717.5\n",
            "\n",
            "[6954 rows x 3 columns] 20\n",
            "     City  count\n",
            "0     NaN    NaN\n",
            "1     NaN    NaN\n",
            "2     NaN    NaN\n",
            "3     NaN    NaN\n",
            "4     NaN    NaN\n",
            "...   ...    ...\n",
            "6949  NaN    NaN\n",
            "6950  NaN    NaN\n",
            "6951  NaN    NaN\n",
            "6952  NaN    NaN\n",
            "6953  NaN    NaN\n",
            "\n",
            "[6954 rows x 2 columns] 10\n",
            "               city  total_inbound_flights  inbound_rank\n",
            "74      Chicago, IL               417297.0           1.0\n",
            "21      Atlanta, GA               396603.0           2.0\n",
            "93       Dallas, TX               316265.0           3.0\n",
            "263    New York, NY               278206.0           4.0\n",
            "167     Houston, TX               250030.0           5.0\n",
            "..              ...                    ...           ...\n",
            "261  New Iberia, LA                    1.0         397.0\n",
            "62   Carbondale, IL                    1.0         397.0\n",
            "303      Racine, WI                    1.0         397.0\n",
            "296       Price, UT                    1.0         397.0\n",
            "359  Starkville, MS                    1.0         397.0\n",
            "\n",
            "[408 rows x 3 columns] 10\n"
          ]
        }
      ]
    }
  ]
}