{
  "nbformat": 4,
  "nbformat_minor": 0,
  "metadata": {
    "colab": {
      "provenance": [],
      "authorship_tag": "ABX9TyPOe3L2aaPYEBwxKy8DrY0w",
      "include_colab_link": true
    },
    "kernelspec": {
      "name": "python3",
      "display_name": "Python 3"
    },
    "language_info": {
      "name": "python"
    }
  },
  "cells": [
    {
      "cell_type": "markdown",
      "metadata": {
        "id": "view-in-github",
        "colab_type": "text"
      },
      "source": [
        "<a href=\"https://colab.research.google.com/github/rekhachakkara/python_projects/blob/master/airport.ipynb\" target=\"_parent\"><img src=\"https://colab.research.google.com/assets/colab-badge.svg\" alt=\"Open In Colab\"/></a>"
      ]
    },
    {
      "cell_type": "code",
      "execution_count": 7,
      "metadata": {
        "colab": {
          "base_uri": "https://localhost:8080/"
        },
        "id": "5XVy1z-2g15A",
        "outputId": "ca4bac4b-43de-4a5e-dc41-6a5d700df492"
      },
      "outputs": [
        {
          "output_type": "stream",
          "name": "stdout",
          "text": [
            "Drive already mounted at /content/drive; to attempt to forcibly remount, call drive.mount(\"/content/drive\", force_remount=True).\n"
          ]
        }
      ],
      "source": [
        "from google.colab import drive\n",
        "drive.mount('/content/drive')\n",
        "\n",
        "import pandas  as  pd\n",
        "import datetime\n",
        "import numpy as np\n",
        "import datetime\n",
        "import matplotlib.pyplot as plt\n",
        "import seaborn as sns\n",
        "import pandas as pd\n"
      ]
    },
    {
      "cell_type": "code",
      "source": [
        "data_sheet = pd.read_csv(\"/content/drive/MyDrive/Data_set_rekha/airports.dat.txt\")\n",
        "#print(data_sheet)\n",
        "data_sheet.columns = [\"Airport_ID\",\"Name\",\"City\",\"Country\",\"IATA\",\"ICAO\",\"Latitude\",\"Longitude\",\"Altitude\",\"Timezone\",\"DST\",\"Tz database timezone\",\"Type\",\"Source\"]\n",
        "data_airlines = pd.read_csv(\"/content/drive/MyDrive/Data_set_rekha/Airports2.csv\")\n",
        "\n",
        "data_airline_sheet1 = data_sheet.sort_values(by=['Altitude'],ascending=False)\n",
        "\n",
        "data_airline_sheet1['rank'] = data_airline_sheet1['Altitude'].rank(ascending=False)\n",
        "data_sheet1_top = data_airline_sheet1[['Airport_ID','Name','City','Country','Altitude','rank']]\n",
        "print(data_sheet1_top,20)\n",
        "\n",
        "\n",
        "#data_sheet.sort_values(\"Type\",inplace=True)\n",
        "#filter\n",
        "#filter = data_sheet(\"Type\") == \"Airport\"\n",
        "#data_sheet.where(filter,inplace=True)\n",
        "\n"
      ],
      "metadata": {
        "colab": {
          "base_uri": "https://localhost:8080/"
        },
        "id": "Rg5H8pvzh88q",
        "outputId": "b389ac28-f7cd-48e1-aa03-2674ff13f4c5"
      },
      "execution_count": 30,
      "outputs": [
        {
          "output_type": "stream",
          "name": "stdout",
          "text": [
            "      Airport_ID                                 Name          City  \\\n",
            "6541        9310              Daocheng Yading Airport      Daocheng   \n",
            "5027        6396                 Qamdo Bangda Airport        Bangda   \n",
            "6392        8921                     Kangding Airport      Kangding   \n",
            "5871        7932                  Ngari Gunsa Airport     Shiquanhe   \n",
            "2624        2762        El Alto International Airport        La Paz   \n",
            "...          ...                                  ...           ...   \n",
            "2068        2151                       Ramsar Airport        Ramsar   \n",
            "4086        4357                       Atyrau Airport        Atyrau   \n",
            "5720        7646  Jacqueline Cochran Regional Airport  Palm Springs   \n",
            "1552        1595                   Ein Yahav Airfield     Eyn-yahav   \n",
            "1557        1600                  Bar Yehuda Airfield       Metzada   \n",
            "\n",
            "            Country  Altitude    rank  \n",
            "6541          China     14472     1.0  \n",
            "5027          China     14219     2.0  \n",
            "6392          China     14042     3.0  \n",
            "5871          China     14022     4.0  \n",
            "2624        Bolivia     13355     5.0  \n",
            "...             ...       ...     ...  \n",
            "2068           Iran       -70  7693.0  \n",
            "4086     Kazakhstan       -72  7694.0  \n",
            "5720  United States      -115  7695.0  \n",
            "1552         Israel      -164  7696.0  \n",
            "1557         Israel     -1266  7697.0  \n",
            "\n",
            "[7697 rows x 6 columns] 20\n"
          ]
        }
      ]
    }
  ]
}