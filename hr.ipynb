{
  "nbformat": 4,
  "nbformat_minor": 0,
  "metadata": {
    "colab": {
      "provenance": [],
      "authorship_tag": "ABX9TyMmrJ60aoV/kb3NifYPm0CD",
      "include_colab_link": true
    },
    "kernelspec": {
      "name": "python3",
      "display_name": "Python 3"
    },
    "language_info": {
      "name": "python"
    }
  },
  "cells": [
    {
      "cell_type": "markdown",
      "metadata": {
        "id": "view-in-github",
        "colab_type": "text"
      },
      "source": [
        "<a href=\"https://colab.research.google.com/github/rekhachakkara/python_projects/blob/master/hr.ipynb\" target=\"_parent\"><img src=\"https://colab.research.google.com/assets/colab-badge.svg\" alt=\"Open In Colab\"/></a>"
      ]
    },
    {
      "cell_type": "code",
      "execution_count": 2,
      "metadata": {
        "id": "nfbuGD0gDa-c",
        "outputId": "e477ad72-3792-49c2-fdd4-ef53dab07a3b",
        "colab": {
          "base_uri": "https://localhost:8080/"
        }
      },
      "outputs": [
        {
          "output_type": "stream",
          "name": "stdout",
          "text": [
            "Mounted at /content/drive\n"
          ]
        }
      ],
      "source": [
        "from google.colab import drive\n",
        "drive.mount('/content/drive')"
      ]
    },
    {
      "cell_type": "code",
      "source": [
        "import pandas  as  pd\n",
        "import datetime\n",
        "import numpy as np\n",
        "import datetime\n",
        "\n",
        "excel_sheet = pd.read_csv(\"/content/drive/MyDrive/Data_set_rekha/HR_comma_sep.csv\")\n",
        "#print(excel_sheet.head(5))\n",
        "\n",
        "#how many employeev in each department\n",
        "data_sheet = excel_sheet.groupby('sales').size().to_frame(\"total\").reset_index()\n",
        "data_sheet1 = data_sheet.sort_values(by=\"total\",ascending=True)\n",
        "print(data_sheet1)\n",
        "\n",
        "#left and number of employees  and rank\n",
        "data_left = excel_sheet.where(excel_sheet[\"left\"] == 1).groupby('sales').size().to_frame(\"tot\").reset_index()\n",
        "data_left ['rank'] = data_left['tot'].rank(ascending=False)\n",
        "print(data_left)"
      ],
      "metadata": {
        "id": "4V6q_NoIDcg2",
        "outputId": "2c90897d-e2cb-4248-ffa3-9cf976f2dd46",
        "colab": {
          "base_uri": "https://localhost:8080/"
        }
      },
      "execution_count": 14,
      "outputs": [
        {
          "output_type": "stream",
          "name": "stdout",
          "text": [
            "         sales  total\n",
            "4   management    630\n",
            "3           hr    739\n",
            "2   accounting    767\n",
            "1        RandD    787\n",
            "5    marketing    858\n",
            "6  product_mng    902\n",
            "0           IT   1227\n",
            "8      support   2229\n",
            "9    technical   2720\n",
            "7        sales   4140\n",
            "         sales   tot  rank\n",
            "0           IT   273   4.0\n",
            "1        RandD   121   9.0\n",
            "2   accounting   204   6.0\n",
            "3           hr   215   5.0\n",
            "4   management    91  10.0\n",
            "5    marketing   203   7.0\n",
            "6  product_mng   198   8.0\n",
            "7        sales  1014   1.0\n",
            "8      support   555   3.0\n",
            "9    technical   697   2.0\n"
          ]
        }
      ]
    }
  ]
}