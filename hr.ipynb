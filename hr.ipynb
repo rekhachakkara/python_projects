{
  "nbformat": 4,
  "nbformat_minor": 0,
  "metadata": {
    "colab": {
      "provenance": [],
      "authorship_tag": "ABX9TyOJTskBISpvzJP9JoANrCXX",
      "include_colab_link": true
    },
    "kernelspec": {
      "name": "python3",
      "display_name": "Python 3"
    },
    "language_info": {
      "name": "python"
    }
  },
  "cells": [
    {
      "cell_type": "markdown",
      "metadata": {
        "id": "view-in-github",
        "colab_type": "text"
      },
      "source": [
        "<a href=\"https://colab.research.google.com/github/rekhachakkara/python_projects/blob/master/hr.ipynb\" target=\"_parent\"><img src=\"https://colab.research.google.com/assets/colab-badge.svg\" alt=\"Open In Colab\"/></a>"
      ]
    },
    {
      "cell_type": "code",
      "execution_count": 1,
      "metadata": {
        "id": "nfbuGD0gDa-c",
        "outputId": "06b64cef-b9f9-4b0f-e4db-9b605c83480c",
        "colab": {
          "base_uri": "https://localhost:8080/"
        }
      },
      "outputs": [
        {
          "output_type": "stream",
          "name": "stdout",
          "text": [
            "Mounted at /content/drive\n"
          ]
        }
      ],
      "source": [
        "from google.colab import drive\n",
        "drive.mount('/content/drive')"
      ]
    },
    {
      "cell_type": "code",
      "source": [
        "import pandas  as  pd\n",
        "import datetime\n",
        "import numpy as np\n",
        "import datetime\n",
        "\n",
        "excel_sheet = pd.read_csv(\"/content/drive/MyDrive/Data_set_rekha/HR_comma_sep.csv\")\n",
        "#print(excel_sheet.head(5))\n",
        "\n",
        "#how many employeev in each department\n",
        "data_sheet = excel_sheet.groupby('sales').size().to_frame(\"total\").reset_index()\n",
        "data_sheet1 = data_sheet.sort_values(by=\"total\",ascending=True)\n",
        "print(data_sheet1)"
      ],
      "metadata": {
        "id": "4V6q_NoIDcg2",
        "outputId": "77dd64d6-64a0-4ed3-b2d8-8220f7ed7964",
        "colab": {
          "base_uri": "https://localhost:8080/"
        }
      },
      "execution_count": 5,
      "outputs": [
        {
          "output_type": "stream",
          "name": "stdout",
          "text": [
            "         sales  total\n",
            "4   management    630\n",
            "3           hr    739\n",
            "2   accounting    767\n",
            "1        RandD    787\n",
            "5    marketing    858\n",
            "6  product_mng    902\n",
            "0           IT   1227\n",
            "8      support   2229\n",
            "9    technical   2720\n",
            "7        sales   4140\n"
          ]
        }
      ]
    }
  ]
}