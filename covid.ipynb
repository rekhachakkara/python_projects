{
  "nbformat": 4,
  "nbformat_minor": 0,
  "metadata": {
    "colab": {
      "provenance": [],
      "authorship_tag": "ABX9TyPdHfZa3QCHEqctJ3KkgYgT",
      "include_colab_link": true
    },
    "kernelspec": {
      "name": "python3",
      "display_name": "Python 3"
    },
    "language_info": {
      "name": "python"
    }
  },
  "cells": [
    {
      "cell_type": "markdown",
      "metadata": {
        "id": "view-in-github",
        "colab_type": "text"
      },
      "source": [
        "<a href=\"https://colab.research.google.com/github/rekhachakkara/python_projects/blob/master/covid.ipynb\" target=\"_parent\"><img src=\"https://colab.research.google.com/assets/colab-badge.svg\" alt=\"Open In Colab\"/></a>"
      ]
    },
    {
      "cell_type": "code",
      "execution_count": 1,
      "metadata": {
        "colab": {
          "base_uri": "https://localhost:8080/"
        },
        "id": "IuyadKPyE281",
        "outputId": "aa9002fa-4d51-494c-a7c1-535724c814fc"
      },
      "outputs": [
        {
          "output_type": "stream",
          "name": "stdout",
          "text": [
            "Mounted at /content/drive\n"
          ]
        }
      ],
      "source": [
        "from google.colab import drive\n",
        "drive.mount('/content/drive')\n",
        "\n"
      ]
    },
    {
      "cell_type": "code",
      "source": [
        "import pandas  as  pd\n",
        "import datetime\n",
        "import numpy as np\n",
        "\n",
        "excel_one = pd.read_csv(\"/content/drive/MyDrive/Data_set_rekha/us-counties-recent.csv\")\n",
        "excel_two = pd.read_csv(\"/content/drive/MyDrive/Data_set_rekha/us-counties.csv\")\n",
        "#print(excel_one.head(5))\n",
        "#print(excel_two.head(5))\n",
        "merge_excel = pd.merge(excel_one,excel_two,how=\"outer\")\n",
        "\n",
        "unique_country = merge_excel.county.unique()\n",
        "#print(unique_country)\n",
        "unique_state = merge_excel.state.unique()\n",
        "#print(unique_state)\n",
        "\n",
        "#extract year from date column\n",
        "\n",
        "merge_excel['year'] = pd.DatetimeIndex(merge_excel['date']).year\n",
        "merge_excel['month'] = pd.DatetimeIndex(merge_excel['date']).month\n",
        "merge_excel['day'] = pd.DatetimeIndex(merge_excel['date']).day\n",
        "\n",
        "#print(merge_excel.head(10))\n",
        "\n",
        "#top 10 state with highest death in year 2020\n",
        "df_2020 = merge_excel.where(merge_excel[\"year\"] == 2020)\n",
        "df2 = df_2020.groupby('state')['deaths'].agg(['sum'])\n",
        "df_state = df2.sort_values(by =['sum'],ascending = False )\n",
        "print(df_state.head(10))\n",
        "\n",
        "#top 10 state with highest death in year 2021\n",
        "df_2021 = merge_excel.where(merge_excel[\"year\"] == 2021)\n",
        "df2 = df_2021.groupby('state')['deaths'].agg(['sum'])\n",
        "df_state = df2.sort_values(by =['sum'],ascending = False )\n",
        "print(df_state.head(10))\n",
        "\n",
        "#top 10 state with highest average death in year 2020\n",
        "df_2020 = merge_excel.where(merge_excel[\"year\"] == 2020)\n",
        "df2 = df_2020.groupby('state')['deaths'].agg(Average_death=('mean'))\n",
        "df_state = df2.sort_values(by =['Average_death'],ascending = False )\n",
        "print(df_state.head(10))\n",
        "\n",
        "#top 10 state with highest average death in year 2021\n",
        "df_2021 = merge_excel.where(merge_excel[\"year\"] == 2021)\n",
        "df2 = df_2021.groupby('state')['deaths'].agg(Average_death=('mean'))\n",
        "df_state = df2.sort_values(by =['Average_death'],ascending = False )\n",
        "print(df_state.head(10))"
      ],
      "metadata": {
        "colab": {
          "base_uri": "https://localhost:8080/"
        },
        "outputId": "50ac7461-5395-4915-81d7-569f8b660103",
        "id": "odJR2qiiR5rM"
      },
      "execution_count": 64,
      "outputs": [
        {
          "output_type": "stream",
          "name": "stdout",
          "text": [
            "                     sum\n",
            "state                   \n",
            "New York       8320598.0\n",
            "New Jersey     3817150.0\n",
            "California     3065113.0\n",
            "Texas          2927740.0\n",
            "Florida        2632238.0\n",
            "Massachusetts  2222455.0\n",
            "Illinois       2211390.0\n",
            "Pennsylvania   2002629.0\n",
            "Michigan       1837617.0\n",
            "Georgia        1363977.0\n",
            "                     sum\n",
            "state                   \n",
            "California    22532428.0\n",
            "Texas         20088968.0\n",
            "New York      18918470.0\n",
            "Florida       15333245.0\n",
            "Pennsylvania  10025434.0\n",
            "New Jersey     9406432.0\n",
            "Illinois       9306526.0\n",
            "Georgia        7791745.0\n",
            "Michigan       7460163.0\n",
            "Ohio           7327426.0\n",
            "                      Average_death\n",
            "state                              \n",
            "New Jersey               590.798638\n",
            "Massachusetts            500.102385\n",
            "New York                 495.037958\n",
            "District of Columbia     487.983333\n",
            "Puerto Rico              457.537415\n",
            "Connecticut              429.230740\n",
            "Arizona                  238.422596\n",
            "California               182.436343\n",
            "Rhode Island             152.694639\n",
            "Florida                  135.000410\n",
            "                      Average_death\n",
            "state                              \n",
            "Puerto Rico             2574.764384\n",
            "Arizona                 1196.586783\n",
            "Massachusetts           1174.260274\n",
            "New Jersey              1171.411208\n",
            "District of Columbia    1105.120548\n",
            "California              1064.004722\n",
            "Connecticut              906.108676\n",
            "New York                 893.645253\n",
            "Florida                  617.777800\n",
            "Rhode Island             444.803653\n"
          ]
        }
      ]
    }
  ]
}